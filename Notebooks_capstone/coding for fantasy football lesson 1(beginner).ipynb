{
 "cells": [
  {
   "cell_type": "code",
   "execution_count": 1,
   "metadata": {},
   "outputs": [],
   "source": [
    "players = [{\"name\" : \"Michael Thomas\", \"catches\" : 149, \"targets\" : 185},\n",
    "           {\"name\" : \"Julio Jones\", \"catches\" : 99, \"targets\" : 157},\n",
    "           { \"name\" : \"Davante Adems\", \"catches\" : 83, \"targets\" : 127}]"
   ]
  },
  {
   "cell_type": "code",
   "execution_count": 5,
   "metadata": {},
   "outputs": [
    {
     "name": "stdout",
     "output_type": "stream",
     "text": [
      "Michael Thomas had a catch rate of 80.54054054054053%\n",
      "Julio Jones had a catch rate of 63.05732484076433%\n",
      "Davante Adems had a catch rate of 65.35433070866141%\n"
     ]
    }
   ],
   "source": [
    "for player in players:\n",
    "    name = player['name']\n",
    "    catches = player['catches']\n",
    "    targets = player['targets']\n",
    "    catch_rate = 100 * (catches/targets)\n",
    "    print(name + ' had a catch rate of ' + str(catch_rate) + '%')\n",
    "\n",
    "#I like this I had no idea i could use for loops this way\n",
    "# you can create custome formulas then input things into them niceee"
   ]
  },
  {
   "cell_type": "code",
   "execution_count": null,
   "metadata": {},
   "outputs": [],
   "source": [
    "# Strings can be concated together whenever we want but they all have\n",
    "#to be strings or it wont work. Thats what the 'str' function is for\n",
    "#it turns variables into strings"
   ]
  },
  {
   "cell_type": "code",
   "execution_count": null,
   "metadata": {},
   "outputs": [],
   "source": []
  },
  {
   "cell_type": "code",
   "execution_count": null,
   "metadata": {},
   "outputs": [],
   "source": []
  }
 ],
 "metadata": {
  "kernelspec": {
   "display_name": "Python 3",
   "language": "python",
   "name": "python3"
  },
  "language_info": {
   "codemirror_mode": {
    "name": "ipython",
    "version": 3
   },
   "file_extension": ".py",
   "mimetype": "text/x-python",
   "name": "python",
   "nbconvert_exporter": "python",
   "pygments_lexer": "ipython3",
   "version": "3.7.6"
  }
 },
 "nbformat": 4,
 "nbformat_minor": 4
}
