{
 "cells": [
  {
   "cell_type": "code",
   "execution_count": 1,
   "metadata": {},
   "outputs": [],
   "source": [
    "players = [{'name' : 'Aaron Jones', 'rushing_yds' : 1084, 'rushing_att' : 236},\n",
    "          {'name' : 'Derrick Henry', 'rushing_yds' : 1540, 'rushing_att' : 202},\n",
    "          {'name' : 'Mark Ingram', 'rushing_yds' : 1018, 'rushing_att' : 202}]"
   ]
  },
  {
   "cell_type": "code",
   "execution_count": 6,
   "metadata": {},
   "outputs": [
    {
     "name": "stdout",
     "output_type": "stream",
     "text": [
      "Aaron Jones had a yd per carry average of 4.593220338983051 yards\n",
      "Derrick Henry had a yd per carry average of 7.623762376237623 yards\n",
      "Mark Ingram had a yd per carry average of 5.03960396039604 yards\n"
     ]
    }
   ],
   "source": [
    "for player in players:\n",
    "    name = player.get('name', None)\n",
    "    rushing_yds = player.get('rushing_yds', None)\n",
    "    rushing_att = player.get('rushing_att', None)\n",
    "    if name and rushing_yds and rushing_att:\n",
    "        print(name + ' had a yd per carry average of ' + str(rushing_yds/rushing_att) + ' yards')"
   ]
  },
  {
   "cell_type": "code",
   "execution_count": null,
   "metadata": {},
   "outputs": [],
   "source": [
    "# so the .get extracts what we want from a dictionary and in this case\n",
    "# that is the 'name', if we did this and there was no 'name' we would\n",
    "# get back the None after 'name'. what that is there for is essentailly\n",
    "# so we get that message instead of a value error so its helpful\n",
    "# None also returns nothing so its needed must be there "
   ]
  },
  {
   "cell_type": "code",
   "execution_count": null,
   "metadata": {},
   "outputs": [],
   "source": [
    "# the if statment is smart too because it makes sure that the .get worked\n",
    "# if it didnt pull the name, rushing_yds and rushing_att then the code\n",
    "# would not run at all. so it was a way to proof check his work.\n",
    "# that is very clever"
   ]
  }
 ],
 "metadata": {
  "kernelspec": {
   "display_name": "Python 3",
   "language": "python",
   "name": "python3"
  },
  "language_info": {
   "codemirror_mode": {
    "name": "ipython",
    "version": 3
   },
   "file_extension": ".py",
   "mimetype": "text/x-python",
   "name": "python",
   "nbconvert_exporter": "python",
   "pygments_lexer": "ipython3",
   "version": "3.7.6"
  }
 },
 "nbformat": 4,
 "nbformat_minor": 4
}
